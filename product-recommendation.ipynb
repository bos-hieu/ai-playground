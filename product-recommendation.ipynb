{
  "nbformat": 4,
  "nbformat_minor": 0,
  "metadata": {
    "colab": {
      "provenance": [],
      "authorship_tag": "ABX9TyPtUZf2dC4+hAYtCYtudMZO",
      "include_colab_link": true
    },
    "kernelspec": {
      "name": "python3",
      "display_name": "Python 3"
    },
    "language_info": {
      "name": "python"
    }
  },
  "cells": [
    {
      "cell_type": "markdown",
      "metadata": {
        "id": "view-in-github",
        "colab_type": "text"
      },
      "source": [
        "<a href=\"https://colab.research.google.com/github/bos-hieu/ai-playground/blob/main/product-recommendation.ipynb\" target=\"_parent\"><img src=\"https://colab.research.google.com/assets/colab-badge.svg\" alt=\"Open In Colab\"/></a>"
      ]
    },
    {
      "cell_type": "code",
      "source": [
        "!pip install langchain sentence-transformers faiss-cpu openai tiktoken"
      ],
      "metadata": {
        "id": "wmUQlcvSm9ds"
      },
      "execution_count": null,
      "outputs": []
    },
    {
      "cell_type": "code",
      "source": [
        "from langchain.schema import Document\n",
        "from langchain.embeddings import HuggingFaceEmbeddings\n",
        "from langchain.vectorstores import FAISS\n",
        "from langchain.chains import RetrievalQA\n",
        "from langchain.llms import OpenAI\n",
        "import os\n",
        "\n",
        "# Sample furniture database (replace with your catalog)\n",
        "furniture = [\n",
        "    {\"name\": \"ErgoDesk Pro\", \"type\": \"standing desk\", \"price\": 450, \"material\": \"bamboo\", \"description\": \"Adjustable height desk with bamboo top.\"},\n",
        "    {\"name\": \"ComfortChair X\", \"type\": \"ergonomic chair\", \"price\": 350, \"material\": \"mesh\", \"description\": \"Breathable mesh chair with lumbar support.\"},\n",
        "    {\"name\": \"ZenPod Mini\", \"type\": \"office pod\", \"price\": 1200, \"material\": \"acoustic foam\", \"description\": \"Soundproof pod for focused work.\"},\n",
        "    {\"name\": \"EcoDesk Lite\", \"type\": \"standing desk\", \"price\": 300, \"material\": \"MDF\", \"description\": \"Budget-friendly standing desk with electric height adjustment.\"},\n",
        "    {\"name\": \"AirLift Desk\", \"type\": \"standing desk\", \"price\": 600, \"material\": \"steel\", \"description\": \"Heavy-duty desk with dual motors.\"},\n",
        "    {\"name\": \"CloudChair Elite\", \"type\": \"ergonomic chair\", \"price\": 500, \"material\": \"leather\", \"description\": \"Premium leather chair with memory foam.\"},\n",
        "    {\"name\": \"FocusPod Pro\", \"type\": \"office pod\", \"price\": 1500, \"material\": \"glass\", \"description\": \"Modern glass pod with noise cancellation.\"}\n",
        "]\n",
        "\n",
        "# 1. Preprocess data into LangChain Documents\n",
        "docs = [\n",
        "    Document(\n",
        "        page_content=f\"Name: {f['name']}\\nType: {f['type']}\\nPrice: ${f['price']}\\nMaterial: {f['material']}\\nDescription: {f['description']}\",\n",
        "        metadata={\"name\": f[\"name\"], \"price\": f[\"price\"], \"type\": f[\"type\"]}\n",
        "    ) for f in furniture\n",
        "]\n",
        "\n",
        "# 2. Create embeddings and vector store\n",
        "embedder = HuggingFaceEmbeddings(model_name=\"all-MiniLM-L6-v2\")\n",
        "vector_db = FAISS.from_documents(docs, embedder)\n",
        "\n",
        "# 3. Initialize LLM (replace with your OpenAI key or local model)\n",
        "os.environ[\"OPENAI_API_KEY\"] = \"your-api-key\"  # Replace with your OpenAI API key\n",
        "llm = OpenAI(temperature=0.3)  # Lower temp = more focused responses\n",
        "\n",
        "# 4. Create recommendation chain\n",
        "qa_chain = RetrievalQA.from_chain_type(\n",
        "    llm,\n",
        "    retriever=vector_db.as_retriever(search_kwargs={\"k\": 3}),  # Retrieve top 3 results\n",
        "    chain_type=\"stuff\"\n",
        ")\n",
        "\n",
        "# 5. Test a query\n",
        "query = \"Find a standing desk under $500 with a bamboo top\"\n",
        "result = qa_chain.run(query)\n",
        "print(f\"Recommendation: {result}\")"
      ],
      "metadata": {
        "id": "bP-vE-cKnD4d"
      },
      "execution_count": null,
      "outputs": []
    }
  ]
}